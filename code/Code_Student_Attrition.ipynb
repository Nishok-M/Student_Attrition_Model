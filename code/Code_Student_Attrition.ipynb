{
 "cells": [
  {
   "attachments": {},
   "cell_type": "markdown",
   "id": "82529bf8",
   "metadata": {},
   "source": [
    "# Student Attrition Model"
   ]
  },
  {
   "cell_type": "markdown",
   "id": "77974042",
   "metadata": {},
   "source": [
    "Given the dataset of Clearwater State University's student information, a column contains data about student's early attrition is taken as target and an end-to-end machine learning model is built using 'Random Forest Classification' algorithm which has accuracy of 84%."
   ]
  },
  {
   "cell_type": "code",
   "execution_count": 1,
   "id": "caf1b250",
   "metadata": {},
   "outputs": [],
   "source": [
    "#Importing the neccessary libraries\n",
    "\n",
    "import pandas as pd\n",
    "import matplotlib.pyplot as plt\n",
    "import seaborn as sns"
   ]
  },
  {
   "cell_type": "markdown",
   "id": "d440610d",
   "metadata": {},
   "source": [
    "## Data Acquisition:"
   ]
  },
  {
   "cell_type": "code",
   "execution_count": 2,
   "id": "8a21ae0d",
   "metadata": {},
   "outputs": [],
   "source": [
    "#Getting the data from excel sheet as dataframe\n",
    "\n",
    "df = pd.read_excel('../data/Student_Attrition_Data.xlsx', sheet_name='University information')"
   ]
  },
  {
   "cell_type": "code",
   "execution_count": 3,
   "id": "aef04f75",
   "metadata": {},
   "outputs": [
    {
     "data": {
      "text/html": [
       "<div>\n",
       "<style scoped>\n",
       "    .dataframe tbody tr th:only-of-type {\n",
       "        vertical-align: middle;\n",
       "    }\n",
       "\n",
       "    .dataframe tbody tr th {\n",
       "        vertical-align: top;\n",
       "    }\n",
       "\n",
       "    .dataframe thead th {\n",
       "        text-align: right;\n",
       "    }\n",
       "</style>\n",
       "<table border=\"1\" class=\"dataframe\">\n",
       "  <thead>\n",
       "    <tr style=\"text-align: right;\">\n",
       "      <th></th>\n",
       "      <th>STUDENT IDENTIFIER</th>\n",
       "      <th>STDNT_AGE</th>\n",
       "      <th>STDNT_GENDER</th>\n",
       "      <th>STDNT_BACKGROUND</th>\n",
       "      <th>IN_STATE_FLAG</th>\n",
       "      <th>INTERNATIONAL_STS</th>\n",
       "      <th>STDNT_MAJOR</th>\n",
       "      <th>STDNT_MINOR</th>\n",
       "      <th>STDNT_TEST_ENTRANCE1</th>\n",
       "      <th>STDNT_TEST_ENTRANCE2</th>\n",
       "      <th>...</th>\n",
       "      <th>DEGREE_GROUP_CD</th>\n",
       "      <th>DEGREE_GROUP_DESC</th>\n",
       "      <th>FIRST_TERM_ATTEMPT_HRS</th>\n",
       "      <th>FIRST_TERM_EARNED_HRS</th>\n",
       "      <th>SECOND_TERM_ATTEMPT_HRS</th>\n",
       "      <th>SECOND_TERM_EARNED_HRS</th>\n",
       "      <th>GROSS_FIN_NEED</th>\n",
       "      <th>COST_OF_ATTEND</th>\n",
       "      <th>EST_FAM_CONTRIBUTION</th>\n",
       "      <th>UNMET_NEED</th>\n",
       "    </tr>\n",
       "  </thead>\n",
       "  <tbody>\n",
       "    <tr>\n",
       "      <th>0</th>\n",
       "      <td>7808615</td>\n",
       "      <td>18</td>\n",
       "      <td>F</td>\n",
       "      <td>BGD 1</td>\n",
       "      <td>Y</td>\n",
       "      <td>N</td>\n",
       "      <td>Undeclared</td>\n",
       "      <td>N</td>\n",
       "      <td>NaN</td>\n",
       "      <td>1150.0</td>\n",
       "      <td>...</td>\n",
       "      <td>B</td>\n",
       "      <td>Bachelors</td>\n",
       "      <td>16</td>\n",
       "      <td>16</td>\n",
       "      <td>14.0</td>\n",
       "      <td>14.0</td>\n",
       "      <td>0</td>\n",
       "      <td>0</td>\n",
       "      <td>0</td>\n",
       "      <td>0.0</td>\n",
       "    </tr>\n",
       "    <tr>\n",
       "      <th>1</th>\n",
       "      <td>7830063</td>\n",
       "      <td>19</td>\n",
       "      <td>F</td>\n",
       "      <td>BGD 1</td>\n",
       "      <td>N</td>\n",
       "      <td>N</td>\n",
       "      <td>Undeclared</td>\n",
       "      <td>N</td>\n",
       "      <td>26.0</td>\n",
       "      <td>NaN</td>\n",
       "      <td>...</td>\n",
       "      <td>B</td>\n",
       "      <td>Bachelors</td>\n",
       "      <td>18</td>\n",
       "      <td>18</td>\n",
       "      <td>18.0</td>\n",
       "      <td>18.0</td>\n",
       "      <td>570000</td>\n",
       "      <td>1355760</td>\n",
       "      <td>785760</td>\n",
       "      <td>459300.0</td>\n",
       "    </tr>\n",
       "    <tr>\n",
       "      <th>2</th>\n",
       "      <td>7847538</td>\n",
       "      <td>18</td>\n",
       "      <td>M</td>\n",
       "      <td>BGD 1</td>\n",
       "      <td>Y</td>\n",
       "      <td>N</td>\n",
       "      <td>Mathematics</td>\n",
       "      <td>N</td>\n",
       "      <td>NaN</td>\n",
       "      <td>1020.0</td>\n",
       "      <td>...</td>\n",
       "      <td>B</td>\n",
       "      <td>Bachelors</td>\n",
       "      <td>15</td>\n",
       "      <td>15</td>\n",
       "      <td>14.0</td>\n",
       "      <td>14.0</td>\n",
       "      <td>0</td>\n",
       "      <td>0</td>\n",
       "      <td>0</td>\n",
       "      <td>0.0</td>\n",
       "    </tr>\n",
       "    <tr>\n",
       "      <th>3</th>\n",
       "      <td>8006429</td>\n",
       "      <td>18</td>\n",
       "      <td>M</td>\n",
       "      <td>BGD 1</td>\n",
       "      <td>Y</td>\n",
       "      <td>N</td>\n",
       "      <td>Undeclared</td>\n",
       "      <td>N</td>\n",
       "      <td>NaN</td>\n",
       "      <td>1210.0</td>\n",
       "      <td>...</td>\n",
       "      <td>B</td>\n",
       "      <td>Bachelors</td>\n",
       "      <td>13</td>\n",
       "      <td>13</td>\n",
       "      <td>14.0</td>\n",
       "      <td>14.0</td>\n",
       "      <td>0</td>\n",
       "      <td>0</td>\n",
       "      <td>0</td>\n",
       "      <td>0.0</td>\n",
       "    </tr>\n",
       "    <tr>\n",
       "      <th>4</th>\n",
       "      <td>7962680</td>\n",
       "      <td>18</td>\n",
       "      <td>F</td>\n",
       "      <td>BGD 1</td>\n",
       "      <td>Y</td>\n",
       "      <td>N</td>\n",
       "      <td>Art</td>\n",
       "      <td>N</td>\n",
       "      <td>NaN</td>\n",
       "      <td>1200.0</td>\n",
       "      <td>...</td>\n",
       "      <td>B</td>\n",
       "      <td>Bachelors</td>\n",
       "      <td>12</td>\n",
       "      <td>12</td>\n",
       "      <td>12.0</td>\n",
       "      <td>12.0</td>\n",
       "      <td>835920</td>\n",
       "      <td>1355760</td>\n",
       "      <td>519840</td>\n",
       "      <td>278340.0</td>\n",
       "    </tr>\n",
       "  </tbody>\n",
       "</table>\n",
       "<p>5 rows × 56 columns</p>\n",
       "</div>"
      ],
      "text/plain": [
       "   STUDENT IDENTIFIER  STDNT_AGE STDNT_GENDER STDNT_BACKGROUND IN_STATE_FLAG  \\\n",
       "0             7808615         18            F            BGD 1             Y   \n",
       "1             7830063         19            F            BGD 1             N   \n",
       "2             7847538         18            M            BGD 1             Y   \n",
       "3             8006429         18            M            BGD 1             Y   \n",
       "4             7962680         18            F            BGD 1             Y   \n",
       "\n",
       "  INTERNATIONAL_STS  STDNT_MAJOR STDNT_MINOR  STDNT_TEST_ENTRANCE1  \\\n",
       "0                 N   Undeclared           N                   NaN   \n",
       "1                 N   Undeclared           N                  26.0   \n",
       "2                 N  Mathematics           N                   NaN   \n",
       "3                 N   Undeclared           N                   NaN   \n",
       "4                 N          Art           N                   NaN   \n",
       "\n",
       "   STDNT_TEST_ENTRANCE2  ...  DEGREE_GROUP_CD  DEGREE_GROUP_DESC  \\\n",
       "0                1150.0  ...                B          Bachelors   \n",
       "1                   NaN  ...                B          Bachelors   \n",
       "2                1020.0  ...                B          Bachelors   \n",
       "3                1210.0  ...                B          Bachelors   \n",
       "4                1200.0  ...                B          Bachelors   \n",
       "\n",
       "  FIRST_TERM_ATTEMPT_HRS FIRST_TERM_EARNED_HRS SECOND_TERM_ATTEMPT_HRS  \\\n",
       "0                     16                    16                    14.0   \n",
       "1                     18                    18                    18.0   \n",
       "2                     15                    15                    14.0   \n",
       "3                     13                    13                    14.0   \n",
       "4                     12                    12                    12.0   \n",
       "\n",
       "  SECOND_TERM_EARNED_HRS GROSS_FIN_NEED COST_OF_ATTEND EST_FAM_CONTRIBUTION  \\\n",
       "0                   14.0              0              0                    0   \n",
       "1                   18.0         570000        1355760               785760   \n",
       "2                   14.0              0              0                    0   \n",
       "3                   14.0              0              0                    0   \n",
       "4                   12.0         835920        1355760               519840   \n",
       "\n",
       "  UNMET_NEED  \n",
       "0        0.0  \n",
       "1   459300.0  \n",
       "2        0.0  \n",
       "3        0.0  \n",
       "4   278340.0  \n",
       "\n",
       "[5 rows x 56 columns]"
      ]
     },
     "execution_count": 3,
     "metadata": {},
     "output_type": "execute_result"
    }
   ],
   "source": [
    "#Previewing the first five rows in dataframe\n",
    "\n",
    "df.head()"
   ]
  },
  {
   "cell_type": "markdown",
   "id": "76786c9b",
   "metadata": {},
   "source": [
    "## Exploratory Data Analysis:"
   ]
  },
  {
   "cell_type": "code",
   "execution_count": 4,
   "id": "0200c7e0",
   "metadata": {},
   "outputs": [
    {
     "name": "stdout",
     "output_type": "stream",
     "text": [
      "<class 'pandas.core.frame.DataFrame'>\n",
      "RangeIndex: 3400 entries, 0 to 3399\n",
      "Data columns (total 56 columns):\n",
      " #   Column                    Non-Null Count  Dtype  \n",
      "---  ------                    --------------  -----  \n",
      " 0   STUDENT IDENTIFIER        3400 non-null   int64  \n",
      " 1   STDNT_AGE                 3400 non-null   int64  \n",
      " 2   STDNT_GENDER              3400 non-null   object \n",
      " 3   STDNT_BACKGROUND          3400 non-null   object \n",
      " 4   IN_STATE_FLAG             3400 non-null   object \n",
      " 5   INTERNATIONAL_STS         3400 non-null   object \n",
      " 6   STDNT_MAJOR               3400 non-null   object \n",
      " 7   STDNT_MINOR               3400 non-null   object \n",
      " 8   STDNT_TEST_ENTRANCE1      1106 non-null   float64\n",
      " 9   STDNT_TEST_ENTRANCE2      2492 non-null   float64\n",
      " 10  STDNT_TEST_ENTRANCE_COMB  2882 non-null   float64\n",
      " 11  FIRST_TERM                3400 non-null   int64  \n",
      " 12  CORE_COURSE_NAME_1_F      3400 non-null   object \n",
      " 13  CORE_COURSE_GRADE_1_F     3400 non-null   object \n",
      " 14  CORE_COURSE_NAME_2_F      3301 non-null   object \n",
      " 15  CORE_COURSE_GRADE_2_F     3301 non-null   object \n",
      " 16  CORE_COURSE_NAME_3_F      2835 non-null   object \n",
      " 17  CORE_COURSE_GRADE_3_F     2835 non-null   object \n",
      " 18  CORE_COURSE_NAME_4_F      1803 non-null   object \n",
      " 19  CORE_COURSE_GRADE_4_F     1803 non-null   object \n",
      " 20  CORE_COURSE_NAME_5_F      645 non-null    object \n",
      " 21  CORE_COURSE_GRADE_5_F     645 non-null    object \n",
      " 22  CORE_COURSE_NAME_6_F      128 non-null    object \n",
      " 23  CORE_COURSE_GRADE_6_F     128 non-null    object \n",
      " 24  SECOND_TERM               3400 non-null   int64  \n",
      " 25  CORE_COURSE_NAME_1_S      3243 non-null   object \n",
      " 26  CORE_COURSE_GRADE_1_S     3168 non-null   object \n",
      " 27  CORE_COURSE_NAME_2_S      2961 non-null   object \n",
      " 28  CORE_COURSE_GRADE_2_S     2961 non-null   object \n",
      " 29  CORE_COURSE_NAME_3_S      2362 non-null   object \n",
      " 30  CORE_COURSE_GRADE_3_S     2362 non-null   object \n",
      " 31  CORE_COURSE_NAME_4_S      1355 non-null   object \n",
      " 32  CORE_COURSE_GRADE_4_S     1355 non-null   object \n",
      " 33  CORE_COURSE_NAME_5_S      450 non-null    object \n",
      " 34  CORE_COURSE_GRADE_5_S     450 non-null    object \n",
      " 35  CORE_COURSE_NAME_6_S      81 non-null     object \n",
      " 36  CORE_COURSE_GRADE_6_S     81 non-null     object \n",
      " 37  HOUSING_STS               3400 non-null   object \n",
      " 38  RETURNED_2ND_YR           3400 non-null   int64  \n",
      " 39  DISTANCE_FROM_HOME        3375 non-null   float64\n",
      " 40  HIGH_SCHL_GPA             3347 non-null   float64\n",
      " 41  HIGH_SCHL_NAME            3399 non-null   object \n",
      " 42  FATHER_HI_EDU_CD          2968 non-null   float64\n",
      " 43  FATHER_HI_EDU_DESC        3400 non-null   object \n",
      " 44  MOTHER_HI_EDU_CD          2911 non-null   float64\n",
      " 45  MOTHER_HI_EDU_DESC        3400 non-null   object \n",
      " 46  DEGREE_GROUP_CD           3400 non-null   object \n",
      " 47  DEGREE_GROUP_DESC         3400 non-null   object \n",
      " 48  FIRST_TERM_ATTEMPT_HRS    3400 non-null   int64  \n",
      " 49  FIRST_TERM_EARNED_HRS     3400 non-null   int64  \n",
      " 50  SECOND_TERM_ATTEMPT_HRS   3194 non-null   float64\n",
      " 51  SECOND_TERM_EARNED_HRS    3191 non-null   float64\n",
      " 52  GROSS_FIN_NEED            3400 non-null   int64  \n",
      " 53  COST_OF_ATTEND            3400 non-null   int64  \n",
      " 54  EST_FAM_CONTRIBUTION      3400 non-null   int64  \n",
      " 55  UNMET_NEED                3400 non-null   float64\n",
      "dtypes: float64(10), int64(10), object(36)\n",
      "memory usage: 1.5+ MB\n"
     ]
    }
   ],
   "source": [
    "#Getting the number of rows, columns, non-null count and data types of the dataframe\n",
    "\n",
    "df.info()"
   ]
  },
  {
   "cell_type": "code",
   "execution_count": 5,
   "id": "128ee327",
   "metadata": {},
   "outputs": [
    {
     "data": {
      "text/html": [
       "<div>\n",
       "<style scoped>\n",
       "    .dataframe tbody tr th:only-of-type {\n",
       "        vertical-align: middle;\n",
       "    }\n",
       "\n",
       "    .dataframe tbody tr th {\n",
       "        vertical-align: top;\n",
       "    }\n",
       "\n",
       "    .dataframe thead th {\n",
       "        text-align: right;\n",
       "    }\n",
       "</style>\n",
       "<table border=\"1\" class=\"dataframe\">\n",
       "  <thead>\n",
       "    <tr style=\"text-align: right;\">\n",
       "      <th></th>\n",
       "      <th>STUDENT IDENTIFIER</th>\n",
       "      <th>STDNT_AGE</th>\n",
       "      <th>STDNT_TEST_ENTRANCE1</th>\n",
       "      <th>STDNT_TEST_ENTRANCE2</th>\n",
       "      <th>STDNT_TEST_ENTRANCE_COMB</th>\n",
       "      <th>FIRST_TERM</th>\n",
       "      <th>SECOND_TERM</th>\n",
       "      <th>RETURNED_2ND_YR</th>\n",
       "      <th>DISTANCE_FROM_HOME</th>\n",
       "      <th>HIGH_SCHL_GPA</th>\n",
       "      <th>FATHER_HI_EDU_CD</th>\n",
       "      <th>MOTHER_HI_EDU_CD</th>\n",
       "      <th>FIRST_TERM_ATTEMPT_HRS</th>\n",
       "      <th>FIRST_TERM_EARNED_HRS</th>\n",
       "      <th>SECOND_TERM_ATTEMPT_HRS</th>\n",
       "      <th>SECOND_TERM_EARNED_HRS</th>\n",
       "      <th>GROSS_FIN_NEED</th>\n",
       "      <th>COST_OF_ATTEND</th>\n",
       "      <th>EST_FAM_CONTRIBUTION</th>\n",
       "      <th>UNMET_NEED</th>\n",
       "    </tr>\n",
       "  </thead>\n",
       "  <tbody>\n",
       "    <tr>\n",
       "      <th>count</th>\n",
       "      <td>3.400000e+03</td>\n",
       "      <td>3400.000000</td>\n",
       "      <td>1106.000000</td>\n",
       "      <td>2492.000000</td>\n",
       "      <td>2882.000000</td>\n",
       "      <td>3400.000000</td>\n",
       "      <td>3400.000000</td>\n",
       "      <td>3400.000000</td>\n",
       "      <td>3375.000000</td>\n",
       "      <td>3347.000000</td>\n",
       "      <td>2968.000000</td>\n",
       "      <td>2911.000000</td>\n",
       "      <td>3400.000000</td>\n",
       "      <td>3400.000000</td>\n",
       "      <td>3194.000000</td>\n",
       "      <td>3191.000000</td>\n",
       "      <td>3.400000e+03</td>\n",
       "      <td>3.400000e+03</td>\n",
       "      <td>3.400000e+03</td>\n",
       "      <td>3.400000e+03</td>\n",
       "    </tr>\n",
       "    <tr>\n",
       "      <th>mean</th>\n",
       "      <td>7.897155e+06</td>\n",
       "      <td>17.994118</td>\n",
       "      <td>20.660036</td>\n",
       "      <td>965.092295</td>\n",
       "      <td>997.758501</td>\n",
       "      <td>200777.000000</td>\n",
       "      <td>200871.000000</td>\n",
       "      <td>0.787353</td>\n",
       "      <td>99.825185</td>\n",
       "      <td>3.202738</td>\n",
       "      <td>2.560647</td>\n",
       "      <td>2.571281</td>\n",
       "      <td>13.985882</td>\n",
       "      <td>12.205000</td>\n",
       "      <td>14.285848</td>\n",
       "      <td>12.511125</td>\n",
       "      <td>3.034025e+05</td>\n",
       "      <td>5.515335e+05</td>\n",
       "      <td>3.446899e+05</td>\n",
       "      <td>7.222052e+04</td>\n",
       "    </tr>\n",
       "    <tr>\n",
       "      <th>std</th>\n",
       "      <td>8.083421e+04</td>\n",
       "      <td>0.552052</td>\n",
       "      <td>3.234734</td>\n",
       "      <td>209.088633</td>\n",
       "      <td>156.268221</td>\n",
       "      <td>170.001298</td>\n",
       "      <td>170.001298</td>\n",
       "      <td>0.409240</td>\n",
       "      <td>235.196984</td>\n",
       "      <td>0.455337</td>\n",
       "      <td>0.681273</td>\n",
       "      <td>0.611729</td>\n",
       "      <td>1.554286</td>\n",
       "      <td>2.986294</td>\n",
       "      <td>2.104387</td>\n",
       "      <td>3.470492</td>\n",
       "      <td>4.836255e+05</td>\n",
       "      <td>6.064403e+05</td>\n",
       "      <td>7.871878e+05</td>\n",
       "      <td>2.795679e+05</td>\n",
       "    </tr>\n",
       "    <tr>\n",
       "      <th>min</th>\n",
       "      <td>7.755837e+06</td>\n",
       "      <td>16.000000</td>\n",
       "      <td>8.000000</td>\n",
       "      <td>350.000000</td>\n",
       "      <td>530.000000</td>\n",
       "      <td>200508.000000</td>\n",
       "      <td>200602.000000</td>\n",
       "      <td>0.000000</td>\n",
       "      <td>0.000000</td>\n",
       "      <td>0.000000</td>\n",
       "      <td>1.000000</td>\n",
       "      <td>1.000000</td>\n",
       "      <td>9.000000</td>\n",
       "      <td>0.000000</td>\n",
       "      <td>2.000000</td>\n",
       "      <td>0.000000</td>\n",
       "      <td>0.000000e+00</td>\n",
       "      <td>0.000000e+00</td>\n",
       "      <td>0.000000e+00</td>\n",
       "      <td>-1.212072e+06</td>\n",
       "    </tr>\n",
       "    <tr>\n",
       "      <th>25%</th>\n",
       "      <td>7.827039e+06</td>\n",
       "      <td>18.000000</td>\n",
       "      <td>18.000000</td>\n",
       "      <td>900.000000</td>\n",
       "      <td>910.000000</td>\n",
       "      <td>200608.000000</td>\n",
       "      <td>200702.000000</td>\n",
       "      <td>1.000000</td>\n",
       "      <td>69.000000</td>\n",
       "      <td>2.870000</td>\n",
       "      <td>2.000000</td>\n",
       "      <td>2.000000</td>\n",
       "      <td>13.000000</td>\n",
       "      <td>11.000000</td>\n",
       "      <td>13.000000</td>\n",
       "      <td>11.000000</td>\n",
       "      <td>0.000000e+00</td>\n",
       "      <td>0.000000e+00</td>\n",
       "      <td>0.000000e+00</td>\n",
       "      <td>0.000000e+00</td>\n",
       "    </tr>\n",
       "    <tr>\n",
       "      <th>50%</th>\n",
       "      <td>7.899052e+06</td>\n",
       "      <td>18.000000</td>\n",
       "      <td>20.000000</td>\n",
       "      <td>990.000000</td>\n",
       "      <td>990.000000</td>\n",
       "      <td>200808.000000</td>\n",
       "      <td>200902.000000</td>\n",
       "      <td>1.000000</td>\n",
       "      <td>69.000000</td>\n",
       "      <td>3.200000</td>\n",
       "      <td>3.000000</td>\n",
       "      <td>3.000000</td>\n",
       "      <td>14.000000</td>\n",
       "      <td>13.000000</td>\n",
       "      <td>14.000000</td>\n",
       "      <td>13.000000</td>\n",
       "      <td>0.000000e+00</td>\n",
       "      <td>1.505400e+05</td>\n",
       "      <td>0.000000e+00</td>\n",
       "      <td>0.000000e+00</td>\n",
       "    </tr>\n",
       "    <tr>\n",
       "      <th>75%</th>\n",
       "      <td>7.964008e+06</td>\n",
       "      <td>18.000000</td>\n",
       "      <td>22.000000</td>\n",
       "      <td>1100.000000</td>\n",
       "      <td>1110.000000</td>\n",
       "      <td>200908.000000</td>\n",
       "      <td>201002.000000</td>\n",
       "      <td>1.000000</td>\n",
       "      <td>138.000000</td>\n",
       "      <td>3.560000</td>\n",
       "      <td>3.000000</td>\n",
       "      <td>3.000000</td>\n",
       "      <td>15.000000</td>\n",
       "      <td>15.000000</td>\n",
       "      <td>16.000000</td>\n",
       "      <td>15.000000</td>\n",
       "      <td>5.995800e+05</td>\n",
       "      <td>1.192815e+06</td>\n",
       "      <td>3.241800e+05</td>\n",
       "      <td>1.876155e+05</td>\n",
       "    </tr>\n",
       "    <tr>\n",
       "      <th>max</th>\n",
       "      <td>8.037098e+06</td>\n",
       "      <td>26.000000</td>\n",
       "      <td>32.000000</td>\n",
       "      <td>1490.000000</td>\n",
       "      <td>1510.000000</td>\n",
       "      <td>201008.000000</td>\n",
       "      <td>201102.000000</td>\n",
       "      <td>1.000000</td>\n",
       "      <td>5932.000000</td>\n",
       "      <td>4.000000</td>\n",
       "      <td>4.000000</td>\n",
       "      <td>4.000000</td>\n",
       "      <td>21.000000</td>\n",
       "      <td>21.000000</td>\n",
       "      <td>23.000000</td>\n",
       "      <td>23.000000</td>\n",
       "      <td>2.124900e+06</td>\n",
       "      <td>2.124900e+06</td>\n",
       "      <td>5.999940e+06</td>\n",
       "      <td>1.632660e+06</td>\n",
       "    </tr>\n",
       "  </tbody>\n",
       "</table>\n",
       "</div>"
      ],
      "text/plain": [
       "       STUDENT IDENTIFIER    STDNT_AGE  STDNT_TEST_ENTRANCE1  \\\n",
       "count        3.400000e+03  3400.000000           1106.000000   \n",
       "mean         7.897155e+06    17.994118             20.660036   \n",
       "std          8.083421e+04     0.552052              3.234734   \n",
       "min          7.755837e+06    16.000000              8.000000   \n",
       "25%          7.827039e+06    18.000000             18.000000   \n",
       "50%          7.899052e+06    18.000000             20.000000   \n",
       "75%          7.964008e+06    18.000000             22.000000   \n",
       "max          8.037098e+06    26.000000             32.000000   \n",
       "\n",
       "       STDNT_TEST_ENTRANCE2  STDNT_TEST_ENTRANCE_COMB     FIRST_TERM  \\\n",
       "count           2492.000000               2882.000000    3400.000000   \n",
       "mean             965.092295                997.758501  200777.000000   \n",
       "std              209.088633                156.268221     170.001298   \n",
       "min              350.000000                530.000000  200508.000000   \n",
       "25%              900.000000                910.000000  200608.000000   \n",
       "50%              990.000000                990.000000  200808.000000   \n",
       "75%             1100.000000               1110.000000  200908.000000   \n",
       "max             1490.000000               1510.000000  201008.000000   \n",
       "\n",
       "         SECOND_TERM  RETURNED_2ND_YR  DISTANCE_FROM_HOME  HIGH_SCHL_GPA  \\\n",
       "count    3400.000000      3400.000000         3375.000000    3347.000000   \n",
       "mean   200871.000000         0.787353           99.825185       3.202738   \n",
       "std       170.001298         0.409240          235.196984       0.455337   \n",
       "min    200602.000000         0.000000            0.000000       0.000000   \n",
       "25%    200702.000000         1.000000           69.000000       2.870000   \n",
       "50%    200902.000000         1.000000           69.000000       3.200000   \n",
       "75%    201002.000000         1.000000          138.000000       3.560000   \n",
       "max    201102.000000         1.000000         5932.000000       4.000000   \n",
       "\n",
       "       FATHER_HI_EDU_CD  MOTHER_HI_EDU_CD  FIRST_TERM_ATTEMPT_HRS  \\\n",
       "count       2968.000000       2911.000000             3400.000000   \n",
       "mean           2.560647          2.571281               13.985882   \n",
       "std            0.681273          0.611729                1.554286   \n",
       "min            1.000000          1.000000                9.000000   \n",
       "25%            2.000000          2.000000               13.000000   \n",
       "50%            3.000000          3.000000               14.000000   \n",
       "75%            3.000000          3.000000               15.000000   \n",
       "max            4.000000          4.000000               21.000000   \n",
       "\n",
       "       FIRST_TERM_EARNED_HRS  SECOND_TERM_ATTEMPT_HRS  SECOND_TERM_EARNED_HRS  \\\n",
       "count            3400.000000              3194.000000             3191.000000   \n",
       "mean               12.205000                14.285848               12.511125   \n",
       "std                 2.986294                 2.104387                3.470492   \n",
       "min                 0.000000                 2.000000                0.000000   \n",
       "25%                11.000000                13.000000               11.000000   \n",
       "50%                13.000000                14.000000               13.000000   \n",
       "75%                15.000000                16.000000               15.000000   \n",
       "max                21.000000                23.000000               23.000000   \n",
       "\n",
       "       GROSS_FIN_NEED  COST_OF_ATTEND  EST_FAM_CONTRIBUTION    UNMET_NEED  \n",
       "count    3.400000e+03    3.400000e+03          3.400000e+03  3.400000e+03  \n",
       "mean     3.034025e+05    5.515335e+05          3.446899e+05  7.222052e+04  \n",
       "std      4.836255e+05    6.064403e+05          7.871878e+05  2.795679e+05  \n",
       "min      0.000000e+00    0.000000e+00          0.000000e+00 -1.212072e+06  \n",
       "25%      0.000000e+00    0.000000e+00          0.000000e+00  0.000000e+00  \n",
       "50%      0.000000e+00    1.505400e+05          0.000000e+00  0.000000e+00  \n",
       "75%      5.995800e+05    1.192815e+06          3.241800e+05  1.876155e+05  \n",
       "max      2.124900e+06    2.124900e+06          5.999940e+06  1.632660e+06  "
      ]
     },
     "execution_count": 5,
     "metadata": {},
     "output_type": "execute_result"
    }
   ],
   "source": [
    "#Getting statistical inference of the dataframe\n",
    "\n",
    "df.describe()"
   ]
  },
  {
   "cell_type": "code",
   "execution_count": 6,
   "id": "44635b5e",
   "metadata": {},
   "outputs": [
    {
     "data": {
      "text/plain": [
       "<AxesSubplot:>"
      ]
     },
     "execution_count": 6,
     "metadata": {},
     "output_type": "execute_result"
    },
    {
     "data": {
      "image/png": "[encoded data removed]",
      "text/plain": [
       "<Figure size 1800x720 with 1 Axes>"
      ]
     },
     "metadata": {
      "needs_background": "light"
     },
     "output_type": "display_data"
    }
   ],
   "source": [
    "#Plotting 'Box Plot' to find outliers\n",
    "\n",
    "df.plot(kind='box',vert=False, figsize=(25,10))"
   ]
  },
  {
   "cell_type": "code",
   "execution_count": 7,
   "id": "88e52e81",
   "metadata": {},
   "outputs": [
    {
     "data": {
      "text/plain": [
       "<AxesSubplot:xlabel='RETURNED_2ND_YR'>"
      ]
     },
     "execution_count": 7,
     "metadata": {},
     "output_type": "execute_result"
    },
    {
     "data": {
      "image/png": "[encoded data removed]",
      "text/plain": [
       "<Figure size 432x288 with 1 Axes>"
      ]
     },
     "metadata": {
      "needs_background": "light"
     },
     "output_type": "display_data"
    }
   ],
   "source": [
    "#Bar chart - Comparison of Attrited students(0) vs Returned students(1) \n",
    "\n",
    "df.groupby('RETURNED_2ND_YR')['RETURNED_2ND_YR'].count().plot(kind='bar')"
   ]
  },
  {
   "cell_type": "code",
   "execution_count": 8,
   "id": "1cf8f4dd",
   "metadata": {},
   "outputs": [],
   "source": [
    "#Extracting the attrited students data as new dataframe\n",
    "\n",
    "attrited_df = df[df['RETURNED_2ND_YR']==0]"
   ]
  },
  {
   "cell_type": "code",
   "execution_count": 9,
   "id": "bc6daacf",
   "metadata": {},
   "outputs": [
    {
     "data": {
      "text/html": [
       "<div>\n",
       "<style scoped>\n",
       "    .dataframe tbody tr th:only-of-type {\n",
       "        vertical-align: middle;\n",
       "    }\n",
       "\n",
       "    .dataframe tbody tr th {\n",
       "        vertical-align: top;\n",
       "    }\n",
       "\n",
       "    .dataframe thead th {\n",
       "        text-align: right;\n",
       "    }\n",
       "</style>\n",
       "<table border=\"1\" class=\"dataframe\">\n",
       "  <thead>\n",
       "    <tr style=\"text-align: right;\">\n",
       "      <th></th>\n",
       "      <th>STUDENT IDENTIFIER</th>\n",
       "      <th>STDNT_AGE</th>\n",
       "      <th>STDNT_GENDER</th>\n",
       "      <th>STDNT_BACKGROUND</th>\n",
       "      <th>IN_STATE_FLAG</th>\n",
       "      <th>INTERNATIONAL_STS</th>\n",
       "      <th>STDNT_MAJOR</th>\n",
       "      <th>STDNT_MINOR</th>\n",
       "      <th>STDNT_TEST_ENTRANCE1</th>\n",
       "      <th>STDNT_TEST_ENTRANCE2</th>\n",
       "      <th>...</th>\n",
       "      <th>DEGREE_GROUP_CD</th>\n",
       "      <th>DEGREE_GROUP_DESC</th>\n",
       "      <th>FIRST_TERM_ATTEMPT_HRS</th>\n",
       "      <th>FIRST_TERM_EARNED_HRS</th>\n",
       "      <th>SECOND_TERM_ATTEMPT_HRS</th>\n",
       "      <th>SECOND_TERM_EARNED_HRS</th>\n",
       "      <th>GROSS_FIN_NEED</th>\n",
       "      <th>COST_OF_ATTEND</th>\n",
       "      <th>EST_FAM_CONTRIBUTION</th>\n",
       "      <th>UNMET_NEED</th>\n",
       "    </tr>\n",
       "  </thead>\n",
       "  <tbody>\n",
       "    <tr>\n",
       "      <th>0</th>\n",
       "      <td>7808615</td>\n",
       "      <td>18</td>\n",
       "      <td>F</td>\n",
       "      <td>BGD 1</td>\n",
       "      <td>Y</td>\n",
       "      <td>N</td>\n",
       "      <td>Undeclared</td>\n",
       "      <td>N</td>\n",
       "      <td>NaN</td>\n",
       "      <td>1150.0</td>\n",
       "      <td>...</td>\n",
       "      <td>B</td>\n",
       "      <td>Bachelors</td>\n",
       "      <td>16</td>\n",
       "      <td>16</td>\n",
       "      <td>14.0</td>\n",
       "      <td>14.0</td>\n",
       "      <td>0</td>\n",
       "      <td>0</td>\n",
       "      <td>0</td>\n",
       "      <td>0.0</td>\n",
       "    </tr>\n",
       "    <tr>\n",
       "      <th>11</th>\n",
       "      <td>7884573</td>\n",
       "      <td>18</td>\n",
       "      <td>F</td>\n",
       "      <td>BGD 1</td>\n",
       "      <td>Y</td>\n",
       "      <td>N</td>\n",
       "      <td>Undeclared</td>\n",
       "      <td>N</td>\n",
       "      <td>NaN</td>\n",
       "      <td>1050.0</td>\n",
       "      <td>...</td>\n",
       "      <td>B</td>\n",
       "      <td>Bachelors</td>\n",
       "      <td>16</td>\n",
       "      <td>16</td>\n",
       "      <td>16.0</td>\n",
       "      <td>16.0</td>\n",
       "      <td>0</td>\n",
       "      <td>1189920</td>\n",
       "      <td>5163240</td>\n",
       "      <td>-326880.0</td>\n",
       "    </tr>\n",
       "    <tr>\n",
       "      <th>17</th>\n",
       "      <td>8004193</td>\n",
       "      <td>17</td>\n",
       "      <td>M</td>\n",
       "      <td>BGD 1</td>\n",
       "      <td>N</td>\n",
       "      <td>N</td>\n",
       "      <td>Biology</td>\n",
       "      <td>N</td>\n",
       "      <td>NaN</td>\n",
       "      <td>1040.0</td>\n",
       "      <td>...</td>\n",
       "      <td>B</td>\n",
       "      <td>Bachelors</td>\n",
       "      <td>14</td>\n",
       "      <td>14</td>\n",
       "      <td>14.0</td>\n",
       "      <td>14.0</td>\n",
       "      <td>1083000</td>\n",
       "      <td>1324500</td>\n",
       "      <td>241500</td>\n",
       "      <td>476580.0</td>\n",
       "    </tr>\n",
       "    <tr>\n",
       "      <th>23</th>\n",
       "      <td>8007842</td>\n",
       "      <td>18</td>\n",
       "      <td>F</td>\n",
       "      <td>BGD 1</td>\n",
       "      <td>Y</td>\n",
       "      <td>N</td>\n",
       "      <td>Pre-Nursing</td>\n",
       "      <td>N</td>\n",
       "      <td>NaN</td>\n",
       "      <td>580.0</td>\n",
       "      <td>...</td>\n",
       "      <td>B</td>\n",
       "      <td>Bachelors</td>\n",
       "      <td>15</td>\n",
       "      <td>15</td>\n",
       "      <td>15.0</td>\n",
       "      <td>15.0</td>\n",
       "      <td>0</td>\n",
       "      <td>0</td>\n",
       "      <td>0</td>\n",
       "      <td>0.0</td>\n",
       "    </tr>\n",
       "    <tr>\n",
       "      <th>36</th>\n",
       "      <td>7799972</td>\n",
       "      <td>18</td>\n",
       "      <td>F</td>\n",
       "      <td>BGD 1</td>\n",
       "      <td>Y</td>\n",
       "      <td>N</td>\n",
       "      <td>Undeclared</td>\n",
       "      <td>N</td>\n",
       "      <td>NaN</td>\n",
       "      <td>620.0</td>\n",
       "      <td>...</td>\n",
       "      <td>B</td>\n",
       "      <td>Bachelors</td>\n",
       "      <td>18</td>\n",
       "      <td>18</td>\n",
       "      <td>14.0</td>\n",
       "      <td>14.0</td>\n",
       "      <td>0</td>\n",
       "      <td>0</td>\n",
       "      <td>0</td>\n",
       "      <td>0.0</td>\n",
       "    </tr>\n",
       "  </tbody>\n",
       "</table>\n",
       "<p>5 rows × 56 columns</p>\n",
       "</div>"
      ],
      "text/plain": [
       "    STUDENT IDENTIFIER  STDNT_AGE STDNT_GENDER STDNT_BACKGROUND IN_STATE_FLAG  \\\n",
       "0              7808615         18            F            BGD 1             Y   \n",
       "11             7884573         18            F            BGD 1             Y   \n",
       "17             8004193         17            M            BGD 1             N   \n",
       "23             8007842         18            F            BGD 1             Y   \n",
       "36             7799972         18            F            BGD 1             Y   \n",
       "\n",
       "   INTERNATIONAL_STS  STDNT_MAJOR STDNT_MINOR  STDNT_TEST_ENTRANCE1  \\\n",
       "0                  N   Undeclared           N                   NaN   \n",
       "11                 N   Undeclared           N                   NaN   \n",
       "17                 N      Biology           N                   NaN   \n",
       "23                 N  Pre-Nursing           N                   NaN   \n",
       "36                 N   Undeclared           N                   NaN   \n",
       "\n",
       "    STDNT_TEST_ENTRANCE2  ...  DEGREE_GROUP_CD  DEGREE_GROUP_DESC  \\\n",
       "0                 1150.0  ...                B          Bachelors   \n",
       "11                1050.0  ...                B          Bachelors   \n",
       "17                1040.0  ...                B          Bachelors   \n",
       "23                 580.0  ...                B          Bachelors   \n",
       "36                 620.0  ...                B          Bachelors   \n",
       "\n",
       "   FIRST_TERM_ATTEMPT_HRS FIRST_TERM_EARNED_HRS SECOND_TERM_ATTEMPT_HRS  \\\n",
       "0                      16                    16                    14.0   \n",
       "11                     16                    16                    16.0   \n",
       "17                     14                    14                    14.0   \n",
       "23                     15                    15                    15.0   \n",
       "36                     18                    18                    14.0   \n",
       "\n",
       "   SECOND_TERM_EARNED_HRS GROSS_FIN_NEED COST_OF_ATTEND EST_FAM_CONTRIBUTION  \\\n",
       "0                    14.0              0              0                    0   \n",
       "11                   16.0              0        1189920              5163240   \n",
       "17                   14.0        1083000        1324500               241500   \n",
       "23                   15.0              0              0                    0   \n",
       "36                   14.0              0              0                    0   \n",
       "\n",
       "   UNMET_NEED  \n",
       "0         0.0  \n",
       "11  -326880.0  \n",
       "17   476580.0  \n",
       "23        0.0  \n",
       "36        0.0  \n",
       "\n",
       "[5 rows x 56 columns]"
      ]
     },
     "execution_count": 9,
     "metadata": {},
     "output_type": "execute_result"
    }
   ],
   "source": [
    "#Previewing the attrited dataframe\n",
    "\n",
    "attrited_df.head()"
   ]
  },
  {
   "cell_type": "code",
   "execution_count": 10,
   "id": "f9d5e2e2",
   "metadata": {},
   "outputs": [
    {
     "data": {
      "image/png": "[encoded data removed]",
      "text/plain": [
       "<Figure size 432x288 with 1 Axes>"
      ]
     },
     "metadata": {
      "needs_background": "light"
     },
     "output_type": "display_data"
    }
   ],
   "source": [
    "#Comparison: Degree vs Attrition rate\n",
    "\n",
    "s = attrited_df.groupby('DEGREE_GROUP_DESC')['RETURNED_2ND_YR'].count()\n",
    "\n",
    "ax = plt.bar(s.keys(),s.values, width = 0.3)\n",
    "\n",
    "for i in range(3):\n",
    "    plt.annotate(str(s.values[i]),xy=(s.keys()[i],s.values[i]), ha='center', va='bottom')\n",
    "\n",
    "plt.show()\n",
    "\n",
    "#Students who enrolled for the bachelors degree attrit the most."
   ]
  },
  {
   "cell_type": "code",
   "execution_count": 11,
   "id": "97ef50d3",
   "metadata": {},
   "outputs": [
    {
     "data": {
      "text/plain": [
       "<AxesSubplot:ylabel='RETURNED_2ND_YR'>"
      ]
     },
     "execution_count": 11,
     "metadata": {},
     "output_type": "execute_result"
    },
    {
     "data": {
      "image/png": "[encoded data removed]",
      "text/plain": [
       "<Figure size 432x288 with 1 Axes>"
      ]
     },
     "metadata": {},
     "output_type": "display_data"
    }
   ],
   "source": [
    "#Comparison: Gender vs Attrition rate\n",
    "\n",
    "attrited_df.groupby('STDNT_GENDER')['RETURNED_2ND_YR'].count().plot(kind='pie')\n",
    "\n",
    "#Female students has more attrition rate than male students."
   ]
  },
  {
   "cell_type": "code",
   "execution_count": 12,
   "id": "effe3b41",
   "metadata": {},
   "outputs": [
    {
     "data": {
      "text/plain": [
       "<AxesSubplot:ylabel='STDNT_AGE'>"
      ]
     },
     "execution_count": 12,
     "metadata": {},
     "output_type": "execute_result"
    },
    {
     "data": {
      "image/png": "[encoded data removed]",
      "text/plain": [
       "<Figure size 432x288 with 1 Axes>"
      ]
     },
     "metadata": {
      "needs_background": "light"
     },
     "output_type": "display_data"
    }
   ],
   "source": [
    "#Comparison: Age vs Attrition rate\n",
    "\n",
    "attrited_df.groupby('STDNT_AGE')['RETURNED_2ND_YR'].count().plot(kind='barh')\n",
    "\n",
    "#Students whose age is less than or equal to 18 attrits more."
   ]
  },
  {
   "cell_type": "code",
   "execution_count": 13,
   "id": "4b27d415",
   "metadata": {},
   "outputs": [
    {
     "data": {
      "text/plain": [
       "<AxesSubplot:xlabel='STDNT_BACKGROUND'>"
      ]
     },
     "execution_count": 13,
     "metadata": {},
     "output_type": "execute_result"
    },
    {
     "data": {
      "image/png": "[encoded data removed]",
      "text/plain": [
       "<Figure size 432x288 with 1 Axes>"
      ]
     },
     "metadata": {
      "needs_background": "light"
     },
     "output_type": "display_data"
    }
   ],
   "source": [
    "#Comparison: Student background vs Attrition rate\n",
    "\n",
    "attrited_df.groupby('STDNT_BACKGROUND')['RETURNED_2ND_YR'].count().plot(kind='bar')\n",
    "\n",
    "#BGD 1 and BGD 3 has more attrition."
   ]
  },
  {
   "cell_type": "code",
   "execution_count": 14,
   "id": "e5f352a8",
   "metadata": {},
   "outputs": [
    {
     "data": {
      "text/plain": [
       "<matplotlib.legend.Legend at 0x13d20ce5f40>"
      ]
     },
     "execution_count": 14,
     "metadata": {},
     "output_type": "execute_result"
    },
    {
     "data": {
      "image/png": "[encoded data removed]",
      "text/plain": [
       "<Figure size 432x288 with 1 Axes>"
      ]
     },
     "metadata": {},
     "output_type": "display_data"
    }
   ],
   "source": [
    "#Comparison: International students vs Attrition rate\n",
    "\n",
    "ax = attrited_df.groupby('INTERNATIONAL_STS')['RETURNED_2ND_YR'].count().plot(kind='pie')\n",
    "ax.legend(loc = 3, labels = ['Native Students', 'International Student'])\n",
    "\n",
    "#Only few international students drops out."
   ]
  },
  {
   "cell_type": "code",
   "execution_count": 15,
   "id": "fc724689",
   "metadata": {},
   "outputs": [
    {
     "data": {
      "text/plain": [
       "<AxesSubplot:ylabel='STDNT_MAJOR'>"
      ]
     },
     "execution_count": 15,
     "metadata": {},
     "output_type": "execute_result"
    },
    {
     "data": {
      "image/png": "[encoded data removed]",
      "text/plain": [
       "<Figure size 1080x1080 with 1 Axes>"
      ]
     },
     "metadata": {
      "needs_background": "light"
     },
     "output_type": "display_data"
    }
   ],
   "source": [
    "#Department wise attrition rate\n",
    "\n",
    "attrited_df.groupby('STDNT_MAJOR')['RETURNED_2ND_YR'].count().sort_values().plot(kind='barh',figsize=(15,15))\n",
    "\n",
    "#Biology, Pre-Nursing, Psychology has more attrition rate."
   ]
  },
  {
   "cell_type": "code",
   "execution_count": 16,
   "id": "7dd1b7dc",
   "metadata": {},
   "outputs": [
    {
     "data": {
      "text/plain": [
       "<AxesSubplot:xlabel='HOUSING_STS'>"
      ]
     },
     "execution_count": 16,
     "metadata": {},
     "output_type": "execute_result"
    },
    {
     "data": {
      "image/png": "[encoded data removed]",
      "text/plain": [
       "<Figure size 432x288 with 1 Axes>"
      ]
     },
     "metadata": {
      "needs_background": "light"
     },
     "output_type": "display_data"
    }
   ],
   "source": [
    "#Comparison: Housing status vs Attrition rate\n",
    "\n",
    "attrited_df.groupby('HOUSING_STS')['RETURNED_2ND_YR'].count().plot(kind='bar')\n",
    "\n",
    "#Off campus students drops out more."
   ]
  },
  {
   "cell_type": "code",
   "execution_count": 18,
   "id": "e4a7e401",
   "metadata": {},
   "outputs": [
    {
     "data": {
      "image/png": "[encoded data removed]",
      "text/plain": [
       "<Figure size 432x288 with 1 Axes>"
      ]
     },
     "metadata": {
      "needs_background": "light"
     },
     "output_type": "display_data"
    }
   ],
   "source": [
    "#Comparison: Distance from home vs Attrition rate\n",
    "\n",
    "def dis_check(DISTANCE_FROM_HOME):\n",
    "    if DISTANCE_FROM_HOME < 10:\n",
    "        return 'Below 10 kms'\n",
    "    elif DISTANCE_FROM_HOME >= 10 and DISTANCE_FROM_HOME < 100:\n",
    "        return 'B/w 10 and 100 kms'\n",
    "    else:\n",
    "        return 'Beyond 100 kms'\n",
    "\n",
    "attrited_df['DISTANCE_FROM_HOME_BCKT'] = attrited_df.apply(lambda x: dis_check(x['DISTANCE_FROM_HOME']),axis=1)\n",
    "\n",
    "attrited_df.groupby('DISTANCE_FROM_HOME_BCKT')['RETURNED_2ND_YR'].count().sort_values().plot(kind='bar')\n",
    "\n",
    "pd.set_option('mode.chained_assignment',None)\n",
    "\n",
    "#Student who lives at the between 10 and 100 has more attrition."
   ]
  },
  {
   "cell_type": "code",
   "execution_count": 19,
   "id": "107b19c6",
   "metadata": {},
   "outputs": [
    {
     "data": {
      "text/plain": [
       "<AxesSubplot:xlabel='FATHER_HI_EDU_DESC'>"
      ]
     },
     "execution_count": 19,
     "metadata": {},
     "output_type": "execute_result"
    },
    {
     "data": {
      "image/png": "[encoded data removed]",
      "text/plain": [
       "<Figure size 432x288 with 1 Axes>"
      ]
     },
     "metadata": {
      "needs_background": "light"
     },
     "output_type": "display_data"
    }
   ],
   "source": [
    "#Comparison: Father's education vs Student attrition\n",
    "\n",
    "attrited_df.groupby('FATHER_HI_EDU_DESC')['RETURNED_2ND_YR'].count().plot(kind='bar')\n",
    "\n",
    "#Students whose father went for high school and college has more attrition."
   ]
  },
  {
   "cell_type": "code",
   "execution_count": 20,
   "id": "35b5307c",
   "metadata": {},
   "outputs": [
    {
     "data": {
      "image/png": "[encoded data removed]",
      "text/plain": [
       "<Figure size 432x288 with 1 Axes>"
      ]
     },
     "metadata": {
      "needs_background": "light"
     },
     "output_type": "display_data"
    }
   ],
   "source": [
    "#Comparison: Unmet finanicial need vs Attrition rate\n",
    "\n",
    "def unmeet_need_check(UNMET_NEED):\n",
    "    if UNMET_NEED < -100000:\n",
    "        return 'Below 100k'\n",
    "    else:\n",
    "        return 'Beyond 100k'\n",
    "\n",
    "attrited_df['UNMET_NEED_BUCKET'] = attrited_df.apply(lambda x: unmeet_need_check(x['UNMET_NEED']),axis=1)\n",
    "\n",
    "attrited_df.groupby('UNMET_NEED_BUCKET')['RETURNED_2ND_YR'].count().plot(kind='bar')\n",
    "\n",
    "pd.set_option('mode.chained_assignment',None)\n",
    "\n",
    "#Students whose loan exceeds 100k attrits more."
   ]
  },
  {
   "cell_type": "code",
   "execution_count": 21,
   "id": "06aa0441",
   "metadata": {},
   "outputs": [
    {
     "data": {
      "image/png": "[encoded data removed]",
      "text/plain": [
       "<Figure size 432x288 with 1 Axes>"
      ]
     },
     "metadata": {
      "needs_background": "light"
     },
     "output_type": "display_data"
    }
   ],
   "source": [
    "#Comparison: Entrance score vs Attrition rate\n",
    "\n",
    "def stdnt_entrance_score_check(STDNT_TEST_ENTRANCE_COMB):\n",
    "    if STDNT_TEST_ENTRANCE_COMB >= 800:\n",
    "        return '800 and plus'\n",
    "    elif STDNT_TEST_ENTRANCE_COMB >= 700:\n",
    "        return 'B/w 700 and 799'\n",
    "    elif STDNT_TEST_ENTRANCE_COMB >= 600:\n",
    "        return 'B/w 600 and 699'\n",
    "    elif STDNT_TEST_ENTRANCE_COMB >= 500:\n",
    "        return 'B/w 500 and 599'\n",
    "    else:\n",
    "        return 'Below 500'\n",
    "\n",
    "attrited_df['STDNT_TEST_ENTRANCE_COMB_BCKT'] = attrited_df.apply(lambda x: stdnt_entrance_score_check(x['STDNT_TEST_ENTRANCE_COMB']),axis=1)\n",
    "\n",
    "attrited_df.groupby('STDNT_TEST_ENTRANCE_COMB_BCKT')['RETURNED_2ND_YR'].count().sort_values().plot(kind='bar')\n",
    "\n",
    "pd.set_option('mode.chained_assignment',None)\n",
    "\n",
    "#Students who scored 800 and above drops out more."
   ]
  },
  {
   "cell_type": "code",
   "execution_count": 22,
   "id": "ac9ee671",
   "metadata": {},
   "outputs": [
    {
     "data": {
      "text/plain": [
       "<AxesSubplot:xlabel='YEAR'>"
      ]
     },
     "execution_count": 22,
     "metadata": {},
     "output_type": "execute_result"
    },
    {
     "data": {
      "image/png": "[encoded data removed]",
      "text/plain": [
       "<Figure size 432x288 with 1 Axes>"
      ]
     },
     "metadata": {
      "needs_background": "light"
     },
     "output_type": "display_data"
    }
   ],
   "source": [
    "#Comparison: Year vs Attrition rate\n",
    "\n",
    "attrited_df['YEAR'] = attrited_df['FIRST_TERM'].map(str).replace(['200508','200608','200708','200808','200908','201008'],['2005','2006','2007','2008','2009','2010'])\n",
    "attrited_df.groupby('YEAR')['RETURNED_2ND_YR'].count().plot(kind='bar')\n",
    "\n",
    "#The attrition rate is getting increased in recent years."
   ]
  },
  {
   "cell_type": "code",
   "execution_count": 23,
   "id": "f479b821",
   "metadata": {},
   "outputs": [
    {
     "data": {
      "text/plain": [
       "<AxesSubplot:xlabel='YEAR,HOUSING_STS'>"
      ]
     },
     "execution_count": 23,
     "metadata": {},
     "output_type": "execute_result"
    },
    {
     "data": {
      "image/png": "[encoded data removed]",
      "text/plain": [
       "<Figure size 432x288 with 1 Axes>"
      ]
     },
     "metadata": {
      "needs_background": "light"
     },
     "output_type": "display_data"
    }
   ],
   "source": [
    "#Comparison: Year and Housing status vs Attrition rate\n",
    "\n",
    "attrited_df.groupby(['YEAR','HOUSING_STS'])['RETURNED_2ND_YR'].count().plot(kind='bar')\n",
    "\n",
    "#On campus student attrits more in past two years."
   ]
  },
  {
   "cell_type": "code",
   "execution_count": 24,
   "id": "9c3d62f3",
   "metadata": {},
   "outputs": [
    {
     "data": {
      "text/plain": [
       "<AxesSubplot:xlabel='YEAR,STDNT_GENDER'>"
      ]
     },
     "execution_count": 24,
     "metadata": {},
     "output_type": "execute_result"
    },
    {
     "data": {
      "image/png": "[encoded data removed]",
      "text/plain": [
       "<Figure size 432x288 with 1 Axes>"
      ]
     },
     "metadata": {
      "needs_background": "light"
     },
     "output_type": "display_data"
    }
   ],
   "source": [
    "#Comparison: Year and Gender vs Attrition rate\n",
    "\n",
    "attrited_df.groupby(['YEAR','STDNT_GENDER'])['RETURNED_2ND_YR'].count().plot(kind='bar')\n",
    "\n",
    "#Female students attrition count is increasing significantly every year."
   ]
  },
  {
   "cell_type": "markdown",
   "id": "b3b87a5e",
   "metadata": {},
   "source": [
    "## Data Preprocessing:"
   ]
  },
  {
   "cell_type": "code",
   "execution_count": 25,
   "id": "c6692f72",
   "metadata": {},
   "outputs": [
    {
     "data": {
      "text/html": [
       "<div>\n",
       "<style scoped>\n",
       "    .dataframe tbody tr th:only-of-type {\n",
       "        vertical-align: middle;\n",
       "    }\n",
       "\n",
       "    .dataframe tbody tr th {\n",
       "        vertical-align: top;\n",
       "    }\n",
       "\n",
       "    .dataframe thead th {\n",
       "        text-align: right;\n",
       "    }\n",
       "</style>\n",
       "<table border=\"1\" class=\"dataframe\">\n",
       "  <thead>\n",
       "    <tr style=\"text-align: right;\">\n",
       "      <th></th>\n",
       "      <th>Percentage</th>\n",
       "    </tr>\n",
       "  </thead>\n",
       "  <tbody>\n",
       "    <tr>\n",
       "      <th>CORE_COURSE_GRADE_6_S</th>\n",
       "      <td>97.62</td>\n",
       "    </tr>\n",
       "    <tr>\n",
       "      <th>CORE_COURSE_NAME_6_S</th>\n",
       "      <td>97.62</td>\n",
       "    </tr>\n",
       "    <tr>\n",
       "      <th>CORE_COURSE_NAME_6_F</th>\n",
       "      <td>96.24</td>\n",
       "    </tr>\n",
       "    <tr>\n",
       "      <th>CORE_COURSE_GRADE_6_F</th>\n",
       "      <td>96.24</td>\n",
       "    </tr>\n",
       "    <tr>\n",
       "      <th>CORE_COURSE_GRADE_5_S</th>\n",
       "      <td>86.76</td>\n",
       "    </tr>\n",
       "    <tr>\n",
       "      <th>CORE_COURSE_NAME_5_S</th>\n",
       "      <td>86.76</td>\n",
       "    </tr>\n",
       "    <tr>\n",
       "      <th>CORE_COURSE_GRADE_5_F</th>\n",
       "      <td>81.03</td>\n",
       "    </tr>\n",
       "    <tr>\n",
       "      <th>CORE_COURSE_NAME_5_F</th>\n",
       "      <td>81.03</td>\n",
       "    </tr>\n",
       "    <tr>\n",
       "      <th>STDNT_TEST_ENTRANCE1</th>\n",
       "      <td>67.47</td>\n",
       "    </tr>\n",
       "    <tr>\n",
       "      <th>CORE_COURSE_NAME_4_S</th>\n",
       "      <td>60.15</td>\n",
       "    </tr>\n",
       "    <tr>\n",
       "      <th>CORE_COURSE_GRADE_4_S</th>\n",
       "      <td>60.15</td>\n",
       "    </tr>\n",
       "    <tr>\n",
       "      <th>CORE_COURSE_NAME_4_F</th>\n",
       "      <td>46.97</td>\n",
       "    </tr>\n",
       "    <tr>\n",
       "      <th>CORE_COURSE_GRADE_4_F</th>\n",
       "      <td>46.97</td>\n",
       "    </tr>\n",
       "    <tr>\n",
       "      <th>CORE_COURSE_GRADE_3_S</th>\n",
       "      <td>30.53</td>\n",
       "    </tr>\n",
       "    <tr>\n",
       "      <th>CORE_COURSE_NAME_3_S</th>\n",
       "      <td>30.53</td>\n",
       "    </tr>\n",
       "    <tr>\n",
       "      <th>STDNT_TEST_ENTRANCE2</th>\n",
       "      <td>26.71</td>\n",
       "    </tr>\n",
       "    <tr>\n",
       "      <th>CORE_COURSE_NAME_3_F</th>\n",
       "      <td>16.62</td>\n",
       "    </tr>\n",
       "    <tr>\n",
       "      <th>CORE_COURSE_GRADE_3_F</th>\n",
       "      <td>16.62</td>\n",
       "    </tr>\n",
       "    <tr>\n",
       "      <th>STDNT_TEST_ENTRANCE_COMB</th>\n",
       "      <td>15.24</td>\n",
       "    </tr>\n",
       "    <tr>\n",
       "      <th>MOTHER_HI_EDU_CD</th>\n",
       "      <td>14.38</td>\n",
       "    </tr>\n",
       "    <tr>\n",
       "      <th>CORE_COURSE_NAME_2_S</th>\n",
       "      <td>12.91</td>\n",
       "    </tr>\n",
       "    <tr>\n",
       "      <th>CORE_COURSE_GRADE_2_S</th>\n",
       "      <td>12.91</td>\n",
       "    </tr>\n",
       "    <tr>\n",
       "      <th>FATHER_HI_EDU_CD</th>\n",
       "      <td>12.71</td>\n",
       "    </tr>\n",
       "    <tr>\n",
       "      <th>CORE_COURSE_GRADE_1_S</th>\n",
       "      <td>6.82</td>\n",
       "    </tr>\n",
       "    <tr>\n",
       "      <th>SECOND_TERM_EARNED_HRS</th>\n",
       "      <td>6.15</td>\n",
       "    </tr>\n",
       "    <tr>\n",
       "      <th>SECOND_TERM_ATTEMPT_HRS</th>\n",
       "      <td>6.06</td>\n",
       "    </tr>\n",
       "    <tr>\n",
       "      <th>CORE_COURSE_NAME_1_S</th>\n",
       "      <td>4.62</td>\n",
       "    </tr>\n",
       "    <tr>\n",
       "      <th>CORE_COURSE_GRADE_2_F</th>\n",
       "      <td>2.91</td>\n",
       "    </tr>\n",
       "    <tr>\n",
       "      <th>CORE_COURSE_NAME_2_F</th>\n",
       "      <td>2.91</td>\n",
       "    </tr>\n",
       "    <tr>\n",
       "      <th>HIGH_SCHL_GPA</th>\n",
       "      <td>1.56</td>\n",
       "    </tr>\n",
       "    <tr>\n",
       "      <th>DISTANCE_FROM_HOME</th>\n",
       "      <td>0.74</td>\n",
       "    </tr>\n",
       "    <tr>\n",
       "      <th>HIGH_SCHL_NAME</th>\n",
       "      <td>0.03</td>\n",
       "    </tr>\n",
       "    <tr>\n",
       "      <th>FIRST_TERM_ATTEMPT_HRS</th>\n",
       "      <td>0.00</td>\n",
       "    </tr>\n",
       "    <tr>\n",
       "      <th>DEGREE_GROUP_DESC</th>\n",
       "      <td>0.00</td>\n",
       "    </tr>\n",
       "    <tr>\n",
       "      <th>GROSS_FIN_NEED</th>\n",
       "      <td>0.00</td>\n",
       "    </tr>\n",
       "    <tr>\n",
       "      <th>COST_OF_ATTEND</th>\n",
       "      <td>0.00</td>\n",
       "    </tr>\n",
       "    <tr>\n",
       "      <th>EST_FAM_CONTRIBUTION</th>\n",
       "      <td>0.00</td>\n",
       "    </tr>\n",
       "    <tr>\n",
       "      <th>FATHER_HI_EDU_DESC</th>\n",
       "      <td>0.00</td>\n",
       "    </tr>\n",
       "    <tr>\n",
       "      <th>DEGREE_GROUP_CD</th>\n",
       "      <td>0.00</td>\n",
       "    </tr>\n",
       "    <tr>\n",
       "      <th>MOTHER_HI_EDU_DESC</th>\n",
       "      <td>0.00</td>\n",
       "    </tr>\n",
       "    <tr>\n",
       "      <th>FIRST_TERM_EARNED_HRS</th>\n",
       "      <td>0.00</td>\n",
       "    </tr>\n",
       "    <tr>\n",
       "      <th>STUDENT IDENTIFIER</th>\n",
       "      <td>0.00</td>\n",
       "    </tr>\n",
       "    <tr>\n",
       "      <th>RETURNED_2ND_YR</th>\n",
       "      <td>0.00</td>\n",
       "    </tr>\n",
       "    <tr>\n",
       "      <th>HOUSING_STS</th>\n",
       "      <td>0.00</td>\n",
       "    </tr>\n",
       "    <tr>\n",
       "      <th>STDNT_AGE</th>\n",
       "      <td>0.00</td>\n",
       "    </tr>\n",
       "    <tr>\n",
       "      <th>SECOND_TERM</th>\n",
       "      <td>0.00</td>\n",
       "    </tr>\n",
       "    <tr>\n",
       "      <th>CORE_COURSE_GRADE_1_F</th>\n",
       "      <td>0.00</td>\n",
       "    </tr>\n",
       "    <tr>\n",
       "      <th>CORE_COURSE_NAME_1_F</th>\n",
       "      <td>0.00</td>\n",
       "    </tr>\n",
       "    <tr>\n",
       "      <th>FIRST_TERM</th>\n",
       "      <td>0.00</td>\n",
       "    </tr>\n",
       "    <tr>\n",
       "      <th>STDNT_MINOR</th>\n",
       "      <td>0.00</td>\n",
       "    </tr>\n",
       "    <tr>\n",
       "      <th>STDNT_MAJOR</th>\n",
       "      <td>0.00</td>\n",
       "    </tr>\n",
       "    <tr>\n",
       "      <th>INTERNATIONAL_STS</th>\n",
       "      <td>0.00</td>\n",
       "    </tr>\n",
       "    <tr>\n",
       "      <th>IN_STATE_FLAG</th>\n",
       "      <td>0.00</td>\n",
       "    </tr>\n",
       "    <tr>\n",
       "      <th>STDNT_BACKGROUND</th>\n",
       "      <td>0.00</td>\n",
       "    </tr>\n",
       "    <tr>\n",
       "      <th>STDNT_GENDER</th>\n",
       "      <td>0.00</td>\n",
       "    </tr>\n",
       "    <tr>\n",
       "      <th>UNMET_NEED</th>\n",
       "      <td>0.00</td>\n",
       "    </tr>\n",
       "  </tbody>\n",
       "</table>\n",
       "</div>"
      ],
      "text/plain": [
       "                          Percentage\n",
       "CORE_COURSE_GRADE_6_S          97.62\n",
       "CORE_COURSE_NAME_6_S           97.62\n",
       "CORE_COURSE_NAME_6_F           96.24\n",
       "CORE_COURSE_GRADE_6_F          96.24\n",
       "CORE_COURSE_GRADE_5_S          86.76\n",
       "CORE_COURSE_NAME_5_S           86.76\n",
       "CORE_COURSE_GRADE_5_F          81.03\n",
       "CORE_COURSE_NAME_5_F           81.03\n",
       "STDNT_TEST_ENTRANCE1           67.47\n",
       "CORE_COURSE_NAME_4_S           60.15\n",
       "CORE_COURSE_GRADE_4_S          60.15\n",
       "CORE_COURSE_NAME_4_F           46.97\n",
       "CORE_COURSE_GRADE_4_F          46.97\n",
       "CORE_COURSE_GRADE_3_S          30.53\n",
       "CORE_COURSE_NAME_3_S           30.53\n",
       "STDNT_TEST_ENTRANCE2           26.71\n",
       "CORE_COURSE_NAME_3_F           16.62\n",
       "CORE_COURSE_GRADE_3_F          16.62\n",
       "STDNT_TEST_ENTRANCE_COMB       15.24\n",
       "MOTHER_HI_EDU_CD               14.38\n",
       "CORE_COURSE_NAME_2_S           12.91\n",
       "CORE_COURSE_GRADE_2_S          12.91\n",
       "FATHER_HI_EDU_CD               12.71\n",
       "CORE_COURSE_GRADE_1_S           6.82\n",
       "SECOND_TERM_EARNED_HRS          6.15\n",
       "SECOND_TERM_ATTEMPT_HRS         6.06\n",
       "CORE_COURSE_NAME_1_S            4.62\n",
       "CORE_COURSE_GRADE_2_F           2.91\n",
       "CORE_COURSE_NAME_2_F            2.91\n",
       "HIGH_SCHL_GPA                   1.56\n",
       "DISTANCE_FROM_HOME              0.74\n",
       "HIGH_SCHL_NAME                  0.03\n",
       "FIRST_TERM_ATTEMPT_HRS          0.00\n",
       "DEGREE_GROUP_DESC               0.00\n",
       "GROSS_FIN_NEED                  0.00\n",
       "COST_OF_ATTEND                  0.00\n",
       "EST_FAM_CONTRIBUTION            0.00\n",
       "FATHER_HI_EDU_DESC              0.00\n",
       "DEGREE_GROUP_CD                 0.00\n",
       "MOTHER_HI_EDU_DESC              0.00\n",
       "FIRST_TERM_EARNED_HRS           0.00\n",
       "STUDENT IDENTIFIER              0.00\n",
       "RETURNED_2ND_YR                 0.00\n",
       "HOUSING_STS                     0.00\n",
       "STDNT_AGE                       0.00\n",
       "SECOND_TERM                     0.00\n",
       "CORE_COURSE_GRADE_1_F           0.00\n",
       "CORE_COURSE_NAME_1_F            0.00\n",
       "FIRST_TERM                      0.00\n",
       "STDNT_MINOR                     0.00\n",
       "STDNT_MAJOR                     0.00\n",
       "INTERNATIONAL_STS               0.00\n",
       "IN_STATE_FLAG                   0.00\n",
       "STDNT_BACKGROUND                0.00\n",
       "STDNT_GENDER                    0.00\n",
       "UNMET_NEED                      0.00"
      ]
     },
     "execution_count": 25,
     "metadata": {},
     "output_type": "execute_result"
    }
   ],
   "source": [
    "#Percentage of missing values in each columns\n",
    "\n",
    "pd.DataFrame(round((df.isnull().sum()/df.shape[0])*100,2).sort_values(ascending=False), columns=['Percentage'])"
   ]
  },
  {
   "cell_type": "code",
   "execution_count": 26,
   "id": "54449aff",
   "metadata": {},
   "outputs": [],
   "source": [
    "#Getting the names of column which has more than 25% null values\n",
    "\n",
    "df_highnull = pd.DataFrame(round((df.isnull().sum()/df.shape[0])*100).nlargest(16)).reset_index()['index']"
   ]
  },
  {
   "cell_type": "code",
   "execution_count": 27,
   "id": "1ba502fc",
   "metadata": {},
   "outputs": [],
   "source": [
    "#Dropping the columns with more than 25% null values\n",
    "\n",
    "df.drop(columns=df_highnull.tolist(),axis=1,inplace=True)"
   ]
  },
  {
   "cell_type": "code",
   "execution_count": 28,
   "id": "a95e29d1",
   "metadata": {
    "scrolled": true
   },
   "outputs": [],
   "source": [
    "#Dropping the ineffectual columns\n",
    "\n",
    "df.drop(columns=['STUDENT IDENTIFIER','FATHER_HI_EDU_DESC','MOTHER_HI_EDU_DESC','DEGREE_GROUP_DESC','FIRST_TERM','SECOND_TERM'],axis=1,inplace=True)"
   ]
  },
  {
   "cell_type": "code",
   "execution_count": 29,
   "id": "0be759ee",
   "metadata": {},
   "outputs": [
    {
     "data": {
      "text/html": [
       "<div>\n",
       "<style scoped>\n",
       "    .dataframe tbody tr th:only-of-type {\n",
       "        vertical-align: middle;\n",
       "    }\n",
       "\n",
       "    .dataframe tbody tr th {\n",
       "        vertical-align: top;\n",
       "    }\n",
       "\n",
       "    .dataframe thead th {\n",
       "        text-align: right;\n",
       "    }\n",
       "</style>\n",
       "<table border=\"1\" class=\"dataframe\">\n",
       "  <thead>\n",
       "    <tr style=\"text-align: right;\">\n",
       "      <th></th>\n",
       "      <th>STDNT_AGE</th>\n",
       "      <th>STDNT_GENDER</th>\n",
       "      <th>STDNT_BACKGROUND</th>\n",
       "      <th>IN_STATE_FLAG</th>\n",
       "      <th>INTERNATIONAL_STS</th>\n",
       "      <th>STDNT_MAJOR</th>\n",
       "      <th>STDNT_MINOR</th>\n",
       "      <th>STDNT_TEST_ENTRANCE_COMB</th>\n",
       "      <th>CORE_COURSE_NAME_1_F</th>\n",
       "      <th>CORE_COURSE_GRADE_1_F</th>\n",
       "      <th>...</th>\n",
       "      <th>MOTHER_HI_EDU_CD</th>\n",
       "      <th>DEGREE_GROUP_CD</th>\n",
       "      <th>FIRST_TERM_ATTEMPT_HRS</th>\n",
       "      <th>FIRST_TERM_EARNED_HRS</th>\n",
       "      <th>SECOND_TERM_ATTEMPT_HRS</th>\n",
       "      <th>SECOND_TERM_EARNED_HRS</th>\n",
       "      <th>GROSS_FIN_NEED</th>\n",
       "      <th>COST_OF_ATTEND</th>\n",
       "      <th>EST_FAM_CONTRIBUTION</th>\n",
       "      <th>UNMET_NEED</th>\n",
       "    </tr>\n",
       "  </thead>\n",
       "  <tbody>\n",
       "    <tr>\n",
       "      <th>0</th>\n",
       "      <td>18</td>\n",
       "      <td>F</td>\n",
       "      <td>BGD 1</td>\n",
       "      <td>Y</td>\n",
       "      <td>N</td>\n",
       "      <td>Undeclared</td>\n",
       "      <td>N</td>\n",
       "      <td>1150.0</td>\n",
       "      <td>ANTH 1105</td>\n",
       "      <td>A</td>\n",
       "      <td>...</td>\n",
       "      <td>NaN</td>\n",
       "      <td>B</td>\n",
       "      <td>16</td>\n",
       "      <td>16</td>\n",
       "      <td>14.0</td>\n",
       "      <td>14.0</td>\n",
       "      <td>0</td>\n",
       "      <td>0</td>\n",
       "      <td>0</td>\n",
       "      <td>0.0</td>\n",
       "    </tr>\n",
       "    <tr>\n",
       "      <th>1</th>\n",
       "      <td>19</td>\n",
       "      <td>F</td>\n",
       "      <td>BGD 1</td>\n",
       "      <td>N</td>\n",
       "      <td>N</td>\n",
       "      <td>Undeclared</td>\n",
       "      <td>N</td>\n",
       "      <td>1190.0</td>\n",
       "      <td>ANTH 1105</td>\n",
       "      <td>A</td>\n",
       "      <td>...</td>\n",
       "      <td>3.0</td>\n",
       "      <td>B</td>\n",
       "      <td>18</td>\n",
       "      <td>18</td>\n",
       "      <td>18.0</td>\n",
       "      <td>18.0</td>\n",
       "      <td>570000</td>\n",
       "      <td>1355760</td>\n",
       "      <td>785760</td>\n",
       "      <td>459300.0</td>\n",
       "    </tr>\n",
       "    <tr>\n",
       "      <th>2</th>\n",
       "      <td>18</td>\n",
       "      <td>M</td>\n",
       "      <td>BGD 1</td>\n",
       "      <td>Y</td>\n",
       "      <td>N</td>\n",
       "      <td>Mathematics</td>\n",
       "      <td>N</td>\n",
       "      <td>1030.0</td>\n",
       "      <td>ANTH 1105</td>\n",
       "      <td>A</td>\n",
       "      <td>...</td>\n",
       "      <td>4.0</td>\n",
       "      <td>B</td>\n",
       "      <td>15</td>\n",
       "      <td>15</td>\n",
       "      <td>14.0</td>\n",
       "      <td>14.0</td>\n",
       "      <td>0</td>\n",
       "      <td>0</td>\n",
       "      <td>0</td>\n",
       "      <td>0.0</td>\n",
       "    </tr>\n",
       "    <tr>\n",
       "      <th>3</th>\n",
       "      <td>18</td>\n",
       "      <td>M</td>\n",
       "      <td>BGD 1</td>\n",
       "      <td>Y</td>\n",
       "      <td>N</td>\n",
       "      <td>Undeclared</td>\n",
       "      <td>N</td>\n",
       "      <td>1220.0</td>\n",
       "      <td>ANTH 1107</td>\n",
       "      <td>A</td>\n",
       "      <td>...</td>\n",
       "      <td>3.0</td>\n",
       "      <td>B</td>\n",
       "      <td>13</td>\n",
       "      <td>13</td>\n",
       "      <td>14.0</td>\n",
       "      <td>14.0</td>\n",
       "      <td>0</td>\n",
       "      <td>0</td>\n",
       "      <td>0</td>\n",
       "      <td>0.0</td>\n",
       "    </tr>\n",
       "    <tr>\n",
       "      <th>4</th>\n",
       "      <td>18</td>\n",
       "      <td>F</td>\n",
       "      <td>BGD 1</td>\n",
       "      <td>Y</td>\n",
       "      <td>N</td>\n",
       "      <td>Art</td>\n",
       "      <td>N</td>\n",
       "      <td>1190.0</td>\n",
       "      <td>ANTH 1107</td>\n",
       "      <td>A</td>\n",
       "      <td>...</td>\n",
       "      <td>2.0</td>\n",
       "      <td>B</td>\n",
       "      <td>12</td>\n",
       "      <td>12</td>\n",
       "      <td>12.0</td>\n",
       "      <td>12.0</td>\n",
       "      <td>835920</td>\n",
       "      <td>1355760</td>\n",
       "      <td>519840</td>\n",
       "      <td>278340.0</td>\n",
       "    </tr>\n",
       "  </tbody>\n",
       "</table>\n",
       "<p>5 rows × 34 columns</p>\n",
       "</div>"
      ],
      "text/plain": [
       "   STDNT_AGE STDNT_GENDER STDNT_BACKGROUND IN_STATE_FLAG INTERNATIONAL_STS  \\\n",
       "0         18            F            BGD 1             Y                 N   \n",
       "1         19            F            BGD 1             N                 N   \n",
       "2         18            M            BGD 1             Y                 N   \n",
       "3         18            M            BGD 1             Y                 N   \n",
       "4         18            F            BGD 1             Y                 N   \n",
       "\n",
       "   STDNT_MAJOR STDNT_MINOR  STDNT_TEST_ENTRANCE_COMB CORE_COURSE_NAME_1_F  \\\n",
       "0   Undeclared           N                    1150.0            ANTH 1105   \n",
       "1   Undeclared           N                    1190.0            ANTH 1105   \n",
       "2  Mathematics           N                    1030.0            ANTH 1105   \n",
       "3   Undeclared           N                    1220.0            ANTH 1107   \n",
       "4          Art           N                    1190.0            ANTH 1107   \n",
       "\n",
       "  CORE_COURSE_GRADE_1_F  ... MOTHER_HI_EDU_CD DEGREE_GROUP_CD  \\\n",
       "0                     A  ...              NaN               B   \n",
       "1                     A  ...              3.0               B   \n",
       "2                     A  ...              4.0               B   \n",
       "3                     A  ...              3.0               B   \n",
       "4                     A  ...              2.0               B   \n",
       "\n",
       "  FIRST_TERM_ATTEMPT_HRS FIRST_TERM_EARNED_HRS SECOND_TERM_ATTEMPT_HRS  \\\n",
       "0                     16                    16                    14.0   \n",
       "1                     18                    18                    18.0   \n",
       "2                     15                    15                    14.0   \n",
       "3                     13                    13                    14.0   \n",
       "4                     12                    12                    12.0   \n",
       "\n",
       "  SECOND_TERM_EARNED_HRS GROSS_FIN_NEED COST_OF_ATTEND EST_FAM_CONTRIBUTION  \\\n",
       "0                   14.0              0              0                    0   \n",
       "1                   18.0         570000        1355760               785760   \n",
       "2                   14.0              0              0                    0   \n",
       "3                   14.0              0              0                    0   \n",
       "4                   12.0         835920        1355760               519840   \n",
       "\n",
       "   UNMET_NEED  \n",
       "0         0.0  \n",
       "1    459300.0  \n",
       "2         0.0  \n",
       "3         0.0  \n",
       "4    278340.0  \n",
       "\n",
       "[5 rows x 34 columns]"
      ]
     },
     "execution_count": 29,
     "metadata": {},
     "output_type": "execute_result"
    }
   ],
   "source": [
    "#Previewing the first five rows in dataframe\n",
    "\n",
    "df.head()"
   ]
  },
  {
   "cell_type": "code",
   "execution_count": 30,
   "id": "bb41bc56",
   "metadata": {
    "scrolled": true
   },
   "outputs": [
    {
     "name": "stdout",
     "output_type": "stream",
     "text": [
      "<class 'pandas.core.frame.DataFrame'>\n",
      "RangeIndex: 3400 entries, 0 to 3399\n",
      "Data columns (total 34 columns):\n",
      " #   Column                    Non-Null Count  Dtype  \n",
      "---  ------                    --------------  -----  \n",
      " 0   STDNT_AGE                 3400 non-null   int64  \n",
      " 1   STDNT_GENDER              3400 non-null   object \n",
      " 2   STDNT_BACKGROUND          3400 non-null   object \n",
      " 3   IN_STATE_FLAG             3400 non-null   object \n",
      " 4   INTERNATIONAL_STS         3400 non-null   object \n",
      " 5   STDNT_MAJOR               3400 non-null   object \n",
      " 6   STDNT_MINOR               3400 non-null   object \n",
      " 7   STDNT_TEST_ENTRANCE_COMB  2882 non-null   float64\n",
      " 8   CORE_COURSE_NAME_1_F      3400 non-null   object \n",
      " 9   CORE_COURSE_GRADE_1_F     3400 non-null   object \n",
      " 10  CORE_COURSE_NAME_2_F      3301 non-null   object \n",
      " 11  CORE_COURSE_GRADE_2_F     3301 non-null   object \n",
      " 12  CORE_COURSE_NAME_3_F      2835 non-null   object \n",
      " 13  CORE_COURSE_GRADE_3_F     2835 non-null   object \n",
      " 14  CORE_COURSE_NAME_1_S      3243 non-null   object \n",
      " 15  CORE_COURSE_GRADE_1_S     3168 non-null   object \n",
      " 16  CORE_COURSE_NAME_2_S      2961 non-null   object \n",
      " 17  CORE_COURSE_GRADE_2_S     2961 non-null   object \n",
      " 18  HOUSING_STS               3400 non-null   object \n",
      " 19  RETURNED_2ND_YR           3400 non-null   int64  \n",
      " 20  DISTANCE_FROM_HOME        3375 non-null   float64\n",
      " 21  HIGH_SCHL_GPA             3347 non-null   float64\n",
      " 22  HIGH_SCHL_NAME            3399 non-null   object \n",
      " 23  FATHER_HI_EDU_CD          2968 non-null   float64\n",
      " 24  MOTHER_HI_EDU_CD          2911 non-null   float64\n",
      " 25  DEGREE_GROUP_CD           3400 non-null   object \n",
      " 26  FIRST_TERM_ATTEMPT_HRS    3400 non-null   int64  \n",
      " 27  FIRST_TERM_EARNED_HRS     3400 non-null   int64  \n",
      " 28  SECOND_TERM_ATTEMPT_HRS   3194 non-null   float64\n",
      " 29  SECOND_TERM_EARNED_HRS    3191 non-null   float64\n",
      " 30  GROSS_FIN_NEED            3400 non-null   int64  \n",
      " 31  COST_OF_ATTEND            3400 non-null   int64  \n",
      " 32  EST_FAM_CONTRIBUTION      3400 non-null   int64  \n",
      " 33  UNMET_NEED                3400 non-null   float64\n",
      "dtypes: float64(8), int64(7), object(19)\n",
      "memory usage: 903.2+ KB\n"
     ]
    }
   ],
   "source": [
    "#Getting the number of rows, columns, non-null count and data types of the new dataframe\n",
    "\n",
    "df.info()"
   ]
  },
  {
   "cell_type": "code",
   "execution_count": 31,
   "id": "cf3da330",
   "metadata": {},
   "outputs": [],
   "source": [
    "#Filling the null values with most common values in the following columns:\n",
    "\n",
    "#1. Father's educational status code\n",
    "df['FATHER_HI_EDU_CD'].fillna(df['FATHER_HI_EDU_CD'].value_counts().keys()[0],inplace=True)\n",
    "\n",
    "#2. Mother's educational status code\n",
    "df['MOTHER_HI_EDU_CD'].fillna(df['MOTHER_HI_EDU_CD'].value_counts().keys()[0],inplace=True)\n",
    "\n",
    "#3. High school name\n",
    "df['HIGH_SCHL_NAME'].fillna(df['HIGH_SCHL_NAME'].value_counts().keys()[0],inplace=True)"
   ]
  },
  {
   "cell_type": "code",
   "execution_count": 32,
   "id": "bc2b6b86",
   "metadata": {},
   "outputs": [],
   "source": [
    "#Filling the null values with their mean in the following columns:\n",
    "\n",
    "#1. Second term attempt hours\n",
    "df['SECOND_TERM_ATTEMPT_HRS'].fillna(round(df['SECOND_TERM_ATTEMPT_HRS'].mean(),2),inplace=True)\n",
    "\n",
    "#2. Second term earned hours\n",
    "df['SECOND_TERM_EARNED_HRS'].fillna(round(df['SECOND_TERM_EARNED_HRS'].mean(),2),inplace=True)\n",
    "\n",
    "#3. Student's combined entrance score\n",
    "df['STDNT_TEST_ENTRANCE_COMB'].fillna(round(df['STDNT_TEST_ENTRANCE_COMB'].mean(),2),inplace=True)\n",
    "\n",
    "#4. Distance from home\n",
    "df['DISTANCE_FROM_HOME'].fillna(round(df['DISTANCE_FROM_HOME'].mean(),2),inplace=True)\n",
    "\n",
    "#5. High school GPA\n",
    "df['HIGH_SCHL_GPA'].fillna(round(df['HIGH_SCHL_GPA'].mean(),2),inplace=True)"
   ]
  },
  {
   "cell_type": "code",
   "execution_count": 33,
   "id": "66710902",
   "metadata": {},
   "outputs": [],
   "source": [
    "#Filling null values in course name as 'ENG 1101 & ENG 1102' and grade as 'B & C'\n",
    "\n",
    "df['CORE_COURSE_NAME_2_F'].fillna('ENG 1101',inplace=True)\n",
    "df['CORE_COURSE_GRADE_2_F'].fillna('B',inplace=True)\n",
    "\n",
    "df['CORE_COURSE_NAME_3_F'].fillna('ENG 1101',inplace=True)\n",
    "df['CORE_COURSE_GRADE_3_F'].fillna('B',inplace=True)\n",
    "\n",
    "df['CORE_COURSE_NAME_1_S'].fillna('ENG 1102',inplace=True)\n",
    "df['CORE_COURSE_GRADE_1_S'].fillna('C',inplace=True)\n",
    "\n",
    "df['CORE_COURSE_NAME_2_S'].fillna('ENG 1102',inplace=True)\n",
    "df['CORE_COURSE_GRADE_2_S'].fillna('B',inplace=True)"
   ]
  },
  {
   "cell_type": "code",
   "execution_count": 34,
   "id": "c5152015",
   "metadata": {},
   "outputs": [],
   "source": [
    "#Replacing 'INCOMPL' as 'NOT REP' in course grade columns\n",
    "\n",
    "df['CORE_COURSE_GRADE_1_F'].replace('INCOMPL','NOT REP',inplace=True)\n",
    "df['CORE_COURSE_GRADE_2_F'].replace('INCOMPL','NOT REP',inplace=True)\n",
    "df['CORE_COURSE_GRADE_1_S'].replace('INCOMPL','NOT REP',inplace=True)"
   ]
  },
  {
   "cell_type": "code",
   "execution_count": 35,
   "id": "bc9ddc3d",
   "metadata": {},
   "outputs": [],
   "source": [
    "#Converting the following categorical columns into numerical columns:\n",
    "\n",
    "#1. High School Name\n",
    "df['HIGH_SCHL_NAME'] = df['HIGH_SCHL_NAME'].str.replace('SCHOOL','')\n",
    "df['HIGH_SCHL_NAME'] = df['HIGH_SCHL_NAME'].astype('int64')\n",
    "\n",
    "#2. Student Background\n",
    "df['STDNT_BACKGROUND'] = df['STDNT_BACKGROUND'].str.replace('BGD','')\n",
    "df['STDNT_BACKGROUND'] = df['STDNT_BACKGROUND'].astype('int64')"
   ]
  },
  {
   "cell_type": "code",
   "execution_count": 36,
   "id": "065327c0",
   "metadata": {},
   "outputs": [],
   "source": [
    "#Labelling the 'UNMET_NEED' column \n",
    "\n",
    "df['UNMET_NEED'][df['UNMET_NEED']>0] = 1\n",
    "df['UNMET_NEED'][df['UNMET_NEED']<0] = 2\n",
    "df['UNMET_NEED'][df['UNMET_NEED']==0] = 0\n",
    "pd.set_option('mode.chained_assignment',None)"
   ]
  },
  {
   "cell_type": "code",
   "execution_count": 37,
   "id": "bbb70f87",
   "metadata": {},
   "outputs": [
    {
     "data": {
      "text/plain": [
       "0    78.74\n",
       "1    21.26\n",
       "Name: RETURNED_2ND_YR, dtype: float64"
      ]
     },
     "execution_count": 37,
     "metadata": {},
     "output_type": "execute_result"
    }
   ],
   "source": [
    "#Replacing 1 as attriting and 0 as not attriting\n",
    "df['RETURNED_2ND_YR'].replace([0,1],[1,0], inplace=True)\n",
    "\n",
    "#Printing the percentage of attriting and not attriting\n",
    "round(df['RETURNED_2ND_YR'].value_counts()/df.shape[0] * 100,2)"
   ]
  },
  {
   "cell_type": "code",
   "execution_count": 38,
   "id": "12b067fb",
   "metadata": {},
   "outputs": [
    {
     "data": {
      "text/plain": [
       "<AxesSubplot:>"
      ]
     },
     "execution_count": 38,
     "metadata": {},
     "output_type": "execute_result"
    },
    {
     "data": {
      "image/png": "[encoded data removed]",
      "text/plain": [
       "<Figure size 1008x864 with 2 Axes>"
      ]
     },
     "metadata": {
      "needs_background": "light"
     },
     "output_type": "display_data"
    }
   ],
   "source": [
    "#Plotting correlation map\n",
    "\n",
    "plt.subplots(figsize=(14,12))\n",
    "sns.heatmap(df.corr().round(2), vmin=-1, vmax=1, annot = True)"
   ]
  },
  {
   "cell_type": "code",
   "execution_count": 39,
   "id": "4f0fa9c4",
   "metadata": {},
   "outputs": [],
   "source": [
    "#From the above map,\n",
    "#1. COST_OF_ATTEND is highly correlated with GROSS_FIN_NEED & UNMET_NEED\n",
    "#2. FIRST_TERM_ATTEMPT_HRS is highly correlated with FIRST_TERM_ATTEMPT_HRS\n",
    "#3. SECOND_TERM_ATTEMPT_HRS is highly correlated with SECOND_TERM_ATTEMPT_HRS\n",
    "\n",
    "#So, the columns GROSS_FIN_NEED, UNMET_NEED, FIRST_TERM_ATTEMPT_HRS and SECOND_TERM_ATTEMPT_HRS are dropped\n",
    "#because of high correlation.\n",
    "\n",
    "new_df = df.drop(['FIRST_TERM_ATTEMPT_HRS','SECOND_TERM_ATTEMPT_HRS','GROSS_FIN_NEED','UNMET_NEED'], axis=1)"
   ]
  },
  {
   "cell_type": "code",
   "execution_count": 40,
   "id": "6567335f",
   "metadata": {},
   "outputs": [],
   "source": [
    "#Splitting the dataframe into features as X and target as Y\n",
    "\n",
    "X = new_df.drop('RETURNED_2ND_YR',axis=1)\n",
    "Y = new_df['RETURNED_2ND_YR']"
   ]
  },
  {
   "cell_type": "code",
   "execution_count": 41,
   "id": "b989ce40",
   "metadata": {},
   "outputs": [],
   "source": [
    "#Converting categorical columns into dummy columns\n",
    "\n",
    "X = pd.get_dummies(X)"
   ]
  },
  {
   "cell_type": "markdown",
   "id": "ac74e5f9",
   "metadata": {},
   "source": [
    "## Model Building:"
   ]
  },
  {
   "cell_type": "code",
   "execution_count": 42,
   "id": "56e2a026",
   "metadata": {},
   "outputs": [],
   "source": [
    "#Importing the neccessary classification models and metrics\n",
    "\n",
    "from sklearn.metrics import f1_score\n",
    "from sklearn.linear_model import LogisticRegression\n",
    "from sklearn.ensemble import RandomForestClassifier\n",
    "from sklearn.tree import DecisionTreeClassifier\n",
    "from xgboost import XGBClassifier"
   ]
  },
  {
   "cell_type": "code",
   "execution_count": 43,
   "id": "e3682e39",
   "metadata": {},
   "outputs": [
    {
     "name": "stdout",
     "output_type": "stream",
     "text": [
      "LogisticRegression's f1 score: 0.00275\n",
      "RandomForestClassifier's f1 score: 1.0\n",
      "XGBClassifier's f1 score: 0.94538\n",
      "DecisionTreeClassifier's f1 score: 1.0\n"
     ]
    }
   ],
   "source": [
    "#Calculating F1 score of the models\n",
    "\n",
    "models = [LogisticRegression(solver='liblinear',multi_class='ovr'), RandomForestClassifier(), XGBClassifier(random_state=7, use_label_encoder =False, eval_metric='logloss'), DecisionTreeClassifier()]\n",
    "\n",
    "def score_model(X, Y, estimator, **kwargs):\n",
    "    model.fit(X, Y, **kwargs)\n",
    "    expected  = Y\n",
    "    predicted = model.predict(X)\n",
    "    print(estimator.__class__.__name__, '\\'s f1 score: ', round(f1_score(expected, predicted),5), sep='')\n",
    "\n",
    "for model in models:\n",
    "    score_model(X, Y, model)"
   ]
  },
  {
   "cell_type": "code",
   "execution_count": 44,
   "id": "a00b1354",
   "metadata": {},
   "outputs": [],
   "source": [
    "#Spliting the features and target into training and testing data with test size of 20%\n",
    "\n",
    "from sklearn.model_selection import train_test_split\n",
    "\n",
    "X_train, X_test, Y_train, Y_test = train_test_split(X, Y, test_size=0.20, random_state=0)"
   ]
  },
  {
   "cell_type": "code",
   "execution_count": 45,
   "id": "5ca9e900",
   "metadata": {},
   "outputs": [
    {
     "data": {
      "text/plain": [
       "RandomForestClassifier(n_estimators=210, n_jobs=-1, oob_score=True,\n",
       "                       random_state=400)"
      ]
     },
     "execution_count": 45,
     "metadata": {},
     "output_type": "execute_result"
    }
   ],
   "source": [
    "#Choosing Random forest classification and training the model\n",
    "\n",
    "model = RandomForestClassifier(n_estimators=210, oob_score=True, n_jobs=-1, random_state=400)\n",
    "model.fit(X_train, Y_train)"
   ]
  },
  {
   "cell_type": "code",
   "execution_count": 46,
   "id": "8f1c4495",
   "metadata": {},
   "outputs": [],
   "source": [
    "#Predicting the target values for test set\n",
    "\n",
    "Y_pred = model.predict(X_test)"
   ]
  },
  {
   "cell_type": "markdown",
   "id": "053de7db",
   "metadata": {},
   "source": [
    "## Model Evaluation:"
   ]
  },
  {
   "cell_type": "code",
   "execution_count": 47,
   "id": "057c2961",
   "metadata": {},
   "outputs": [
    {
     "name": "stdout",
     "output_type": "stream",
     "text": [
      "Confusion Matrix:\n",
      "[[542   9]\n",
      " [ 99  30]]\n"
     ]
    }
   ],
   "source": [
    "#Printing the confusion matrix\n",
    "\n",
    "from sklearn.metrics import confusion_matrix\n",
    "\n",
    "print('Confusion Matrix:', confusion_matrix(Y_test, Y_pred), sep='\\n')"
   ]
  },
  {
   "cell_type": "code",
   "execution_count": 48,
   "id": "0a4874dc",
   "metadata": {},
   "outputs": [
    {
     "name": "stdout",
     "output_type": "stream",
     "text": [
      "              precision    recall  f1-score   support\n",
      "\n",
      "           0       0.85      0.98      0.91       551\n",
      "           1       0.77      0.23      0.36       129\n",
      "\n",
      "    accuracy                           0.84       680\n",
      "   macro avg       0.81      0.61      0.63       680\n",
      "weighted avg       0.83      0.84      0.80       680\n",
      "\n"
     ]
    }
   ],
   "source": [
    "#Printing the classification report\n",
    "\n",
    "from sklearn.metrics import classification_report\n",
    "\n",
    "print(classification_report(Y_test, Y_pred))"
   ]
  }
 ],
 "metadata": {
  "kernelspec": {
   "display_name": "Python 3 (ipykernel)",
   "language": "python",
   "name": "python3"
  },
  "language_info": {
   "codemirror_mode": {
    "name": "ipython",
    "version": 3
   },
   "file_extension": ".py",
   "mimetype": "text/x-python",
   "name": "python",
   "nbconvert_exporter": "python",
   "pygments_lexer": "ipython3",
   "version": "3.9.7"
  }
 },
 "nbformat": 4,
 "nbformat_minor": 5
}
